{
 "cells": [
  {
   "metadata": {
    "ExecuteTime": {
     "end_time": "2024-08-20T06:25:59.819024Z",
     "start_time": "2024-08-20T06:25:59.812218Z"
    }
   },
   "cell_type": "code",
   "source": [
    "import pandas as pd\n",
    "\n",
    "# Load the cleaned data\n",
    "df = pd.read_csv('T:\\Data Collection Teamlink Project\\pythonProject\\cleaned_fake.csv')\n",
    "\n",
    "# Data Cleaning (if necessary)\n",
    "\n"
   ],
   "id": "d85d08531408a2e0",
   "outputs": [],
   "execution_count": 26
  },
  {
   "metadata": {
    "ExecuteTime": {
     "end_time": "2024-08-20T06:25:59.829737Z",
     "start_time": "2024-08-20T06:25:59.825247Z"
    }
   },
   "cell_type": "code",
   "source": "df.columns",
   "id": "a8cac3b605a3f40f",
   "outputs": [
    {
     "data": {
      "text/plain": [
       "Index(['Property ID', 'Name', 'Company', 'Email Address', 'Phone Number',\n",
       "       'Zip Code', 'Address', 'City', 'State', 'Suburb', 'Latitude',\n",
       "       'Longitude', 'Did you find what you were looking for',\n",
       "       'Overall Condition of the Property', 'Interaction with the agent',\n",
       "       'Satisfaction with the inspection process', 'Likelihood to Buy or Rent',\n",
       "       'What did you like most?', 'How well did the property meet your needs?',\n",
       "       'View Similar Properties', 'Additional Comments'],\n",
       "      dtype='object')"
      ]
     },
     "execution_count": 27,
     "metadata": {},
     "output_type": "execute_result"
    }
   ],
   "execution_count": 27
  },
  {
   "metadata": {
    "ExecuteTime": {
     "end_time": "2024-08-20T06:25:59.834579Z",
     "start_time": "2024-08-20T06:25:59.830744Z"
    }
   },
   "cell_type": "code",
   "source": [
    "df.rename(columns={\n",
    "    'Overall Condition of the Property': 'Property_Condition',\n",
    "    'Interaction with the agent': 'Agent_Interaction',\n",
    "    'Satisfaction with the inspection process': 'Inspection_Satisfaction',\n",
    "    'Likelihood to Buy or Rent': 'Buy_Rent_Likelihood',\n",
    "    'What did you like most?': 'Liked_Features',\n",
    "    'Additional Comments': 'Comments'\n",
    "}, inplace=True)"
   ],
   "id": "b11dfe38bdd39e71",
   "outputs": [],
   "execution_count": 28
  },
  {
   "metadata": {
    "ExecuteTime": {
     "end_time": "2024-08-20T06:25:59.841728Z",
     "start_time": "2024-08-20T06:25:59.835584Z"
    }
   },
   "cell_type": "code",
   "source": [
    "# Fill missing values with the median or mode, or drop rows with missing values\n",
    "df['Buy_Rent_Likelihood'].fillna(df['Buy_Rent_Likelihood'].median(), inplace=True)\n",
    "df['Property_Condition'].fillna(df['Property_Condition'].mode()[0], inplace=True)\n",
    "df['Inspection_Satisfaction'].fillna(df['Inspection_Satisfaction'].mode()[0], inplace=True)\n",
    "\n",
    "# Alternatively, drop rows with missing values in these columns\n",
    "# df.dropna(subset=['Buy_Rent_Likelihood', 'Property_Condition', 'Inspection_Satisfaction'], inplace=True)\n"
   ],
   "id": "6a3caa66e30442a2",
   "outputs": [
    {
     "name": "stderr",
     "output_type": "stream",
     "text": [
      "C:\\Users\\shiva\\AppData\\Local\\Temp\\ipykernel_14040\\3826349141.py:2: FutureWarning: A value is trying to be set on a copy of a DataFrame or Series through chained assignment using an inplace method.\n",
      "The behavior will change in pandas 3.0. This inplace method will never work because the intermediate object on which we are setting values always behaves as a copy.\n",
      "\n",
      "For example, when doing 'df[col].method(value, inplace=True)', try using 'df.method({col: value}, inplace=True)' or df[col] = df[col].method(value) instead, to perform the operation inplace on the original object.\n",
      "\n",
      "\n",
      "  df['Buy_Rent_Likelihood'].fillna(df['Buy_Rent_Likelihood'].median(), inplace=True)\n",
      "C:\\Users\\shiva\\AppData\\Local\\Temp\\ipykernel_14040\\3826349141.py:3: FutureWarning: A value is trying to be set on a copy of a DataFrame or Series through chained assignment using an inplace method.\n",
      "The behavior will change in pandas 3.0. This inplace method will never work because the intermediate object on which we are setting values always behaves as a copy.\n",
      "\n",
      "For example, when doing 'df[col].method(value, inplace=True)', try using 'df.method({col: value}, inplace=True)' or df[col] = df[col].method(value) instead, to perform the operation inplace on the original object.\n",
      "\n",
      "\n",
      "  df['Property_Condition'].fillna(df['Property_Condition'].mode()[0], inplace=True)\n",
      "C:\\Users\\shiva\\AppData\\Local\\Temp\\ipykernel_14040\\3826349141.py:4: FutureWarning: A value is trying to be set on a copy of a DataFrame or Series through chained assignment using an inplace method.\n",
      "The behavior will change in pandas 3.0. This inplace method will never work because the intermediate object on which we are setting values always behaves as a copy.\n",
      "\n",
      "For example, when doing 'df[col].method(value, inplace=True)', try using 'df.method({col: value}, inplace=True)' or df[col] = df[col].method(value) instead, to perform the operation inplace on the original object.\n",
      "\n",
      "\n",
      "  df['Inspection_Satisfaction'].fillna(df['Inspection_Satisfaction'].mode()[0], inplace=True)\n"
     ]
    }
   ],
   "execution_count": 29
  },
  {
   "metadata": {
    "ExecuteTime": {
     "end_time": "2024-08-20T06:25:59.871099Z",
     "start_time": "2024-08-20T06:25:59.843914Z"
    }
   },
   "cell_type": "code",
   "source": [
    "import pandas as pd\n",
    "\n",
    "\n",
    "# Rename columns for easier reference\n",
    "\n",
    "\n",
    "# Data Cleaning (if necessary)\n",
    "df.drop_duplicates(inplace=True)  # Remove duplicates\n",
    "df.fillna({\n",
    "    'Property_Condition': df['Property_Condition'].mode()[0],\n",
    "    'Agent_Interaction': df['Agent_Interaction'].median(),\n",
    "    'Inspection_Satisfaction': df['Inspection_Satisfaction'].mode()[0],\n",
    "    'Buy_Rent_Likelihood': df['Buy_Rent_Likelihood'].median(),\n",
    "    'Liked_Features': 'Unknown',\n",
    "    'Comments': 'No comments'\n",
    "}, inplace=True)\n",
    "\n",
    "# Convert categorical ratings to numerical for analysis\n",
    "rating_map = {'Very Satisfied': 5, 'Satisfied': 4, 'Neutral': 3, 'Unsatisfied': 2, 'Very Unsatisfied': 1}\n",
    "df['Inspection_Satisfaction'] = df['Inspection_Satisfaction'].map(rating_map)\n",
    "\n",
    "# Property Engagement Index (PEI)\n",
    "df['PEI'] = (0.4 * df['Buy_Rent_Likelihood'] +\n",
    "             0.3 * df['Inspection_Satisfaction'] +\n",
    "             0.3 * df['Agent_Interaction'])\n",
    "\n",
    "# Feature Impact Score (FIS)\n",
    "features = ['Bedrooms', 'Bathrooms', 'Kitchen', 'Living Space', 'Garage', 'Balcony', 'Neighborhood', 'Price']\n",
    "for feature in features:\n",
    "    df[feature] = df['Liked_Features'].apply(lambda x: feature in x)\n",
    "\n",
    "feature_impact_scores = {}\n",
    "for feature in features:\n",
    "    feature_impact_scores[feature] = df[df[feature] == True]['Buy_Rent_Likelihood'].mean()\n",
    "\n",
    "print(\"Feature Impact Scores:\")\n",
    "for feature, score in feature_impact_scores.items():\n",
    "    print(f\"{feature}: {score:.2f}\")\n",
    "\n",
    "# Agent Performance Index (API)\n",
    "df['Converted'] = df['Buy_Rent_Likelihood'] > 3\n",
    "conversion_rate = df['Converted'].mean()\n",
    "df['API'] = (0.5 * df['Agent_Interaction'] +\n",
    "             0.3 * df['Property_Condition'] +\n",
    "             0.2 * conversion_rate)\n",
    "\n",
    "# Suburb Performance Index (SPI)\n",
    "suburb_grouped = df.groupby('Suburb').agg({\n",
    "    'Buy_Rent_Likelihood': 'mean',\n",
    "    'Property_Condition': 'mean',\n",
    "    'Inspection_Satisfaction': 'mean'\n",
    "})\n",
    "\n",
    "suburb_grouped['SPI'] = (suburb_grouped['Buy_Rent_Likelihood'] *\n",
    "                         suburb_grouped['Property_Condition'] *\n",
    "                         suburb_grouped['Inspection_Satisfaction'])\n",
    "\n",
    "print(suburb_grouped[['SPI']].sort_values(by='SPI', ascending=False))\n",
    "\n",
    "# Export the KPIs to CSV files\n",
    "df.to_csv('kpis_with_correct_columns.csv', index=False)\n",
    "suburb_grouped.to_csv('suburb_spi_correct_columns.csv')\n",
    "\n",
    "print(\"KPIs and cleaned data with correct columns saved successfully.\")\n"
   ],
   "id": "79d6e471af12a43",
   "outputs": [
    {
     "name": "stdout",
     "output_type": "stream",
     "text": [
      "Feature Impact Scores:\n",
      "Bedrooms: 2.85\n",
      "Bathrooms: 2.59\n",
      "Kitchen: 2.75\n",
      "Living Space: 3.01\n",
      "Garage: 2.84\n",
      "Balcony: 3.23\n",
      "Neighborhood: 2.87\n",
      "Price: 2.93\n",
      "             SPI\n",
      "Suburb          \n",
      "Bondi        NaN\n",
      "Chatswood    NaN\n",
      "Cronulla     NaN\n",
      "Liverpool    NaN\n",
      "Manly        NaN\n",
      "Mosman       NaN\n",
      "Newtown      NaN\n",
      "Parramatta   NaN\n",
      "Penrith      NaN\n",
      "Surry Hills  NaN\n",
      "KPIs and cleaned data with correct columns saved successfully.\n"
     ]
    }
   ],
   "execution_count": 30
  }
 ],
 "metadata": {
  "kernelspec": {
   "display_name": "Python 3",
   "language": "python",
   "name": "python3"
  },
  "language_info": {
   "codemirror_mode": {
    "name": "ipython",
    "version": 2
   },
   "file_extension": ".py",
   "mimetype": "text/x-python",
   "name": "python",
   "nbconvert_exporter": "python",
   "pygments_lexer": "ipython2",
   "version": "2.7.6"
  }
 },
 "nbformat": 4,
 "nbformat_minor": 5
}
